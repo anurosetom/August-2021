{
 "cells": [
  {
   "cell_type": "code",
   "execution_count": 2,
   "id": "prime-dutch",
   "metadata": {},
   "outputs": [
    {
     "name": "stdout",
     "output_type": "stream",
     "text": [
      "The best parameter for k is 15\n"
     ]
    }
   ],
   "source": [
    "from sklearn.datasets import load_iris\n",
    "from sklearn.model_selection import train_test_split,GridSearchCV,KFold\n",
    "from sklearn import neighbors\n",
    "import warnings\n",
    "warnings.filterwarnings('ignore')\n",
    "\n",
    "iris=load_iris()\n",
    "x=iris.data\n",
    "y=iris.target\n",
    "xtrain,xtest,ytrain,ytest=train_test_split(x,y,random_state=19)\n",
    "\n",
    "k_values=list(range(1,21,2))#k is hyperparameter in range 1 to 21\n",
    "k_values\n",
    "\n",
    "param_value=[{'n_neighbors':k_values}]#k giving as list of parameters\n",
    "\n",
    "model=neighbors.KNeighborsClassifier()\n",
    "\n",
    "grid_search=GridSearchCV(estimator=model,param_grid=param_value,\n",
    "                        cv=KFold(n_splits=10))\n",
    "grid_search.fit(xtrain,ytrain)\n",
    "best_k=grid_search.best_params_['n_neighbors']\n",
    "\n",
    "print(f'The best parameter for k is {best_k}')"
   ]
  },
  {
   "cell_type": "code",
   "execution_count": 4,
   "id": "geographic-privilege",
   "metadata": {},
   "outputs": [
    {
     "name": "stdout",
     "output_type": "stream",
     "text": [
      "[[14  0  0]\n",
      " [ 0 14  0]\n",
      " [ 0  2  8]]\n",
      "              precision    recall  f1-score   support\n",
      "\n",
      "           0       1.00      1.00      1.00        14\n",
      "           1       0.88      1.00      0.93        14\n",
      "           2       1.00      0.80      0.89        10\n",
      "\n",
      "    accuracy                           0.95        38\n",
      "   macro avg       0.96      0.93      0.94        38\n",
      "weighted avg       0.95      0.95      0.95        38\n",
      "\n"
     ]
    }
   ],
   "source": [
    "from sklearn.metrics import classification_report,confusion_matrix\n",
    "\n",
    "#knnclf is knn classifier\n",
    "knnclf=neighbors.KNeighborsClassifier(n_neighbors=best_k)\n",
    "\n",
    "knnclf.fit(xtrain[:,2:4],ytrain)#train the data of 2nd index to 4th index(column)\n",
    "\n",
    "ypred=knnclf.predict(xtest[:,2:4])\n",
    "print(confusion_matrix(ytest,ypred))\n",
    "\n",
    "print(classification_report(ytest,ypred))\n",
    "#check support column and matrix and recall column 14 are correctly get,10 is 80%"
   ]
  },
  {
   "cell_type": "code",
   "execution_count": null,
   "id": "younger-retro",
   "metadata": {},
   "outputs": [],
   "source": []
  }
 ],
 "metadata": {
  "kernelspec": {
   "display_name": "Python 3",
   "language": "python",
   "name": "python3"
  },
  "language_info": {
   "codemirror_mode": {
    "name": "ipython",
    "version": 3
   },
   "file_extension": ".py",
   "mimetype": "text/x-python",
   "name": "python",
   "nbconvert_exporter": "python",
   "pygments_lexer": "ipython3",
   "version": "3.8.8"
  }
 },
 "nbformat": 4,
 "nbformat_minor": 5
}
